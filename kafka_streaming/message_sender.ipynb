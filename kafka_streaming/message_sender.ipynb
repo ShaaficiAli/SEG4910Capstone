{
 "cells": [
  {
   "cell_type": "code",
   "execution_count": 1,
   "metadata": {},
   "outputs": [],
   "source": [
    "import uuid\n",
    "from confluent_kafka import Producer\n",
    "import json"
   ]
  },
  {
   "cell_type": "code",
   "execution_count": 2,
   "metadata": {},
   "outputs": [],
   "source": [
    "base_message = {\n",
    "    \"columns\":[\"V1\",\"V2\",\"V3\",\"V4\",\"V5\",\"V6\",\"V7\",\"V8\",\"V9\",\"V10\",\"V11\",\"V12\",\"V13\",\"V14\",\"V15\",\"V16\",\"V17\",\"V18\",\"V19\",\"V20\",\"V21\",\"V22\",\"V23\",\"V24\",\"V25\",\"V26\",\"V27\",\"V28\",\"Amount\"],\n",
    "    \"data\":[]\n",
    "}"
   ]
  },
  {
   "cell_type": "code",
   "execution_count": 6,
   "metadata": {},
   "outputs": [],
   "source": [
    "credit_transactions = [\n",
    "[12.8,0.029,0.48,0.98,6.2,29.1,3.33,1.2,0.39,75.1,0.66,11.2,1.3,0.2,12.8,0.029,0.45,0.98,6.2,29,3.33,1.2,0.39,75.3,0.3,2.2,1.3,2.2,1.01],\n",
    "[0.8,0.2,0.32,0.1,5.2,29.1,3.4,1.2,0.4,75.1,0.77,1.2,1.3,1.2,11.8,0.002,0.48,0.99,6.2,4,3.33,1.2,0.2,75.3,0.4,1.2,1.3,2.2,2.01],\n",
    "[11.2,20,0.1,0.98,6.2,29.1,3.23,1.2,0.7,75.1,0.88,1.22,1.4,2.2,3.8,0.003,0.45,0.1,6.2,29,3.8,1.2,0.39,75.3,0.5,1.6,1.3,3.2,3.001],\n",
    "[2.1,0.34,0.34,0.2,4.2,29.1,3.1,1.2,0.2,75.1,0.99,1.32,1.5,3.2,0.8,0.02,0.48,0.2,6.2,6,3.33,1.2,0.3,75.3,0.6,0.2,1.3,5.2,5.2],\n",
    "[0.08,0.22,0.1,0.98,6.2,29.1,3.33,1.2,0.56,75.1,0.1,1.42,1.6,4.2,0.8,0.1,0.45,0.3,6.2,29,3.7,1.2,0.39,75.3,0.7,1.2,1.3,7.2,1.21]\n",
    "]"
   ]
  },
  {
   "cell_type": "code",
   "execution_count": 3,
   "metadata": {},
   "outputs": [],
   "source": [
    "bootstrap_servers='127.0.0.1:9092'\n",
    "topic='test'\n",
    "msg_count=5"
   ]
  },
  {
   "cell_type": "code",
   "execution_count": 21,
   "metadata": {},
   "outputs": [],
   "source": [
    "def delivery_report(err, msg):\n",
    "    \"\"\" Called once for each message produced to indicate delivery result.\n",
    "        Triggered by poll() or flush(). \"\"\"\n",
    "    if err is not None:\n",
    "        print('Message delivery failed: {}'.format(err))\n",
    "    else:\n",
    "        print('Message delivered to {}'.format(msg.topic()))\n",
    "\n",
    "def confluent_kafka_producer():\n",
    "\n",
    "    p = Producer({'bootstrap.servers': bootstrap_servers})\n",
    "    for transaction in credit_transactions:\n",
    "\n",
    "        record_key = str(uuid.uuid4())\n",
    "        base_message['data'] = [transaction]\n",
    "        record_value = json.dumps(base_message)\n",
    "\n",
    "        p.produce(topic, key=record_key, value=record_value, on_delivery=delivery_report)\n",
    "        p.poll(0)\n",
    "\n",
    "    p.flush()\n",
    "    print('we\\'ve sent {count} messages to {brokers}'.format(count=len(credit_transactions), brokers=bootstrap_servers))"
   ]
  },
  {
   "cell_type": "code",
   "execution_count": 23,
   "metadata": {},
   "outputs": [
    {
     "name": "stdout",
     "output_type": "stream",
     "text": [
      "Message delivered to test\n",
      "Message delivered to test\n",
      "Message delivered to test\n",
      "Message delivered to test\n",
      "Message delivered to test\n",
      "we've sent 5 messages to 127.0.0.1:9092\n"
     ]
    }
   ],
   "source": [
    "# run the producer and add some data to kafka\n",
    "confluent_kafka_producer()"
   ]
  },
  {
   "cell_type": "code",
   "execution_count": null,
   "metadata": {},
   "outputs": [],
   "source": []
  }
 ],
 "metadata": {
  "kernelspec": {
   "display_name": "Python 3",
   "language": "python",
   "name": "python3"
  },
  "language_info": {
   "codemirror_mode": {
    "name": "ipython",
    "version": 3
   },
   "file_extension": ".py",
   "mimetype": "text/x-python",
   "name": "python",
   "nbconvert_exporter": "python",
   "pygments_lexer": "ipython3",
   "version": "3.6.8"
  }
 },
 "nbformat": 4,
 "nbformat_minor": 4
}
