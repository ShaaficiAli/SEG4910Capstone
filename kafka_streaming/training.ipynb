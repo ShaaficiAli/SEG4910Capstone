{
 "cells": [
  {
   "cell_type": "code",
   "execution_count": 13,
   "metadata": {},
   "outputs": [],
   "source": [
    "import pandas as pd\n",
    "import mlflow\n",
    "import mlflow.sklearn\n",
    "from sklearn.linear_model import LogisticRegression\n",
    "from sklearn.model_selection import train_test_split\n",
    "from sklearn.metrics import accuracy_score\n",
    "from sklearn.metrics import f1_score, recall_score, precision_score"
   ]
  },
  {
   "cell_type": "code",
   "execution_count": 16,
   "metadata": {},
   "outputs": [
    {
     "name": "stderr",
     "output_type": "stream",
     "text": [
      "/Users/filipbosnjak/opt/anaconda3/lib/python3.8/site-packages/numpy/lib/arraysetops.py:580: FutureWarning: elementwise comparison failed; returning scalar instead, but in the future will perform elementwise comparison\n",
      "  mask |= (ar1 == a)\n"
     ]
    }
   ],
   "source": [
    "df = pd.read_csv('FinalDataset.csv',index_col=[0])"
   ]
  },
  {
   "cell_type": "code",
   "execution_count": 17,
   "metadata": {},
   "outputs": [
    {
     "data": {
      "text/html": [
       "<div>\n",
       "<style scoped>\n",
       "    .dataframe tbody tr th:only-of-type {\n",
       "        vertical-align: middle;\n",
       "    }\n",
       "\n",
       "    .dataframe tbody tr th {\n",
       "        vertical-align: top;\n",
       "    }\n",
       "\n",
       "    .dataframe thead th {\n",
       "        text-align: right;\n",
       "    }\n",
       "</style>\n",
       "<table border=\"1\" class=\"dataframe\">\n",
       "  <thead>\n",
       "    <tr style=\"text-align: right;\">\n",
       "      <th></th>\n",
       "      <th>Length</th>\n",
       "      <th>Subdomain length</th>\n",
       "      <th>Uppercase count</th>\n",
       "      <th>Lowercase count</th>\n",
       "      <th>Numeric count</th>\n",
       "      <th>Entropy</th>\n",
       "      <th>Special Char Count</th>\n",
       "      <th>Max label length</th>\n",
       "      <th>Average label length</th>\n",
       "      <th>Number of Labels</th>\n",
       "      <th>Length of domain</th>\n",
       "      <th>Label</th>\n",
       "    </tr>\n",
       "  </thead>\n",
       "  <tbody>\n",
       "    <tr>\n",
       "      <th>count</th>\n",
       "      <td>2.5e+06</td>\n",
       "      <td>2.5e+06</td>\n",
       "      <td>2.5e+06</td>\n",
       "      <td>2.5e+06</td>\n",
       "      <td>2.5e+06</td>\n",
       "      <td>2.5e+06</td>\n",
       "      <td>2.5e+06</td>\n",
       "      <td>2.5e+06</td>\n",
       "      <td>2.5e+06</td>\n",
       "      <td>2.5e+06</td>\n",
       "      <td>2.5e+06</td>\n",
       "      <td>2.5e+06</td>\n",
       "    </tr>\n",
       "    <tr>\n",
       "      <th>mean</th>\n",
       "      <td>127.263</td>\n",
       "      <td>54.6081</td>\n",
       "      <td>19.5291</td>\n",
       "      <td>26.0819</td>\n",
       "      <td>10.4825</td>\n",
       "      <td>4.25213</td>\n",
       "      <td>4.75204</td>\n",
       "      <td>19.0779</td>\n",
       "      <td>10.4162</td>\n",
       "      <td>4.63603</td>\n",
       "      <td>2.60146</td>\n",
       "      <td>0.4</td>\n",
       "    </tr>\n",
       "    <tr>\n",
       "      <th>std</th>\n",
       "      <td>62.7403</td>\n",
       "      <td>58.1194</td>\n",
       "      <td>27.5646</td>\n",
       "      <td>22.4064</td>\n",
       "      <td>12.6494</td>\n",
       "      <td>0.970508</td>\n",
       "      <td>3.556</td>\n",
       "      <td>15.1087</td>\n",
       "      <td>7.49173</td>\n",
       "      <td>2.1244</td>\n",
       "      <td>1.1564</td>\n",
       "      <td>0.489898</td>\n",
       "    </tr>\n",
       "    <tr>\n",
       "      <th>min</th>\n",
       "      <td>63</td>\n",
       "      <td>0</td>\n",
       "      <td>0</td>\n",
       "      <td>0</td>\n",
       "      <td>0</td>\n",
       "      <td>0.591673</td>\n",
       "      <td>0</td>\n",
       "      <td>1</td>\n",
       "      <td>1</td>\n",
       "      <td>1</td>\n",
       "      <td>1</td>\n",
       "      <td>0</td>\n",
       "    </tr>\n",
       "    <tr>\n",
       "      <th>25%</th>\n",
       "      <td>79</td>\n",
       "      <td>11</td>\n",
       "      <td>0</td>\n",
       "      <td>13</td>\n",
       "      <td>0</td>\n",
       "      <td>3.44644</td>\n",
       "      <td>2</td>\n",
       "      <td>8</td>\n",
       "      <td>5</td>\n",
       "      <td>3</td>\n",
       "      <td>2</td>\n",
       "      <td>0</td>\n",
       "    </tr>\n",
       "    <tr>\n",
       "      <th>50%</th>\n",
       "      <td>95</td>\n",
       "      <td>23</td>\n",
       "      <td>0</td>\n",
       "      <td>16</td>\n",
       "      <td>2</td>\n",
       "      <td>3.87314</td>\n",
       "      <td>4</td>\n",
       "      <td>14</td>\n",
       "      <td>7.66667</td>\n",
       "      <td>4</td>\n",
       "      <td>2</td>\n",
       "      <td>0</td>\n",
       "    </tr>\n",
       "    <tr>\n",
       "      <th>75%</th>\n",
       "      <td>170</td>\n",
       "      <td>92</td>\n",
       "      <td>33</td>\n",
       "      <td>37</td>\n",
       "      <td>21</td>\n",
       "      <td>5.26598</td>\n",
       "      <td>7</td>\n",
       "      <td>23</td>\n",
       "      <td>13.4286</td>\n",
       "      <td>7</td>\n",
       "      <td>3</td>\n",
       "      <td>1</td>\n",
       "    </tr>\n",
       "    <tr>\n",
       "      <th>max</th>\n",
       "      <td>1514</td>\n",
       "      <td>241</td>\n",
       "      <td>122</td>\n",
       "      <td>207</td>\n",
       "      <td>68</td>\n",
       "      <td>5.93376</td>\n",
       "      <td>84</td>\n",
       "      <td>63</td>\n",
       "      <td>34.7143</td>\n",
       "      <td>46</td>\n",
       "      <td>37</td>\n",
       "      <td>1</td>\n",
       "    </tr>\n",
       "  </tbody>\n",
       "</table>\n",
       "</div>"
      ],
      "text/plain": [
       "        Length Subdomain length Uppercase count Lowercase count Numeric count  \\\n",
       "count  2.5e+06          2.5e+06         2.5e+06         2.5e+06       2.5e+06   \n",
       "mean   127.263          54.6081         19.5291         26.0819       10.4825   \n",
       "std    62.7403          58.1194         27.5646         22.4064       12.6494   \n",
       "min         63                0               0               0             0   \n",
       "25%         79               11               0              13             0   \n",
       "50%         95               23               0              16             2   \n",
       "75%        170               92              33              37            21   \n",
       "max       1514              241             122             207            68   \n",
       "\n",
       "        Entropy Special Char Count Max label length Average label length  \\\n",
       "count   2.5e+06            2.5e+06          2.5e+06              2.5e+06   \n",
       "mean    4.25213            4.75204          19.0779              10.4162   \n",
       "std    0.970508              3.556          15.1087              7.49173   \n",
       "min    0.591673                  0                1                    1   \n",
       "25%     3.44644                  2                8                    5   \n",
       "50%     3.87314                  4               14              7.66667   \n",
       "75%     5.26598                  7               23              13.4286   \n",
       "max     5.93376                 84               63              34.7143   \n",
       "\n",
       "      Number of Labels Length of domain     Label  \n",
       "count          2.5e+06          2.5e+06   2.5e+06  \n",
       "mean           4.63603          2.60146       0.4  \n",
       "std             2.1244           1.1564  0.489898  \n",
       "min                  1                1         0  \n",
       "25%                  3                2         0  \n",
       "50%                  4                2         0  \n",
       "75%                  7                3         1  \n",
       "max                 46               37         1  "
      ]
     },
     "execution_count": 17,
     "metadata": {},
     "output_type": "execute_result"
    }
   ],
   "source": [
    "df.describe().apply(lambda s: s.apply(lambda x: format(x, 'g')))\n"
   ]
  },
  {
   "cell_type": "code",
   "execution_count": 18,
   "metadata": {},
   "outputs": [
    {
     "data": {
      "text/plain": [
       "Length                    int64\n",
       "Website                  object\n",
       "Subdomain length          int64\n",
       "Uppercase count           int64\n",
       "Lowercase count           int64\n",
       "Numeric count             int64\n",
       "Entropy                 float64\n",
       "Special Char Count        int64\n",
       "Max label length          int64\n",
       "Average label length    float64\n",
       "Number of Labels          int64\n",
       "Length of domain          int64\n",
       "Label                     int64\n",
       "dtype: object"
      ]
     },
     "execution_count": 18,
     "metadata": {},
     "output_type": "execute_result"
    }
   ],
   "source": [
    "df.dtypes"
   ]
  },
  {
   "cell_type": "code",
   "execution_count": 19,
   "metadata": {},
   "outputs": [
    {
     "data": {
      "text/html": [
       "<div>\n",
       "<style scoped>\n",
       "    .dataframe tbody tr th:only-of-type {\n",
       "        vertical-align: middle;\n",
       "    }\n",
       "\n",
       "    .dataframe tbody tr th {\n",
       "        vertical-align: top;\n",
       "    }\n",
       "\n",
       "    .dataframe thead th {\n",
       "        text-align: right;\n",
       "    }\n",
       "</style>\n",
       "<table border=\"1\" class=\"dataframe\">\n",
       "  <thead>\n",
       "    <tr style=\"text-align: right;\">\n",
       "      <th></th>\n",
       "      <th>Length</th>\n",
       "      <th>Subdomain length</th>\n",
       "      <th>Uppercase count</th>\n",
       "      <th>Lowercase count</th>\n",
       "      <th>Numeric count</th>\n",
       "      <th>Entropy</th>\n",
       "      <th>Special Char Count</th>\n",
       "      <th>Max label length</th>\n",
       "      <th>Average label length</th>\n",
       "      <th>Number of Labels</th>\n",
       "      <th>Length of domain</th>\n",
       "      <th>Label</th>\n",
       "    </tr>\n",
       "  </thead>\n",
       "  <tbody>\n",
       "    <tr>\n",
       "      <th>count</th>\n",
       "      <td>1.5e+06</td>\n",
       "      <td>1.5e+06</td>\n",
       "      <td>1.5e+06</td>\n",
       "      <td>1.5e+06</td>\n",
       "      <td>1.5e+06</td>\n",
       "      <td>1.5e+06</td>\n",
       "      <td>1.5e+06</td>\n",
       "      <td>1.5e+06</td>\n",
       "      <td>1.5e+06</td>\n",
       "      <td>1.5e+06</td>\n",
       "      <td>1.5e+06</td>\n",
       "      <td>1.5e+06</td>\n",
       "    </tr>\n",
       "    <tr>\n",
       "      <th>mean</th>\n",
       "      <td>84.2182</td>\n",
       "      <td>15.6273</td>\n",
       "      <td>0.00100533</td>\n",
       "      <td>16.8908</td>\n",
       "      <td>1.25169</td>\n",
       "      <td>3.5062</td>\n",
       "      <td>2.71243</td>\n",
       "      <td>9.98546</td>\n",
       "      <td>5.80414</td>\n",
       "      <td>3.22617</td>\n",
       "      <td>3.00244</td>\n",
       "      <td>0</td>\n",
       "    </tr>\n",
       "    <tr>\n",
       "      <th>std</th>\n",
       "      <td>13.4067</td>\n",
       "      <td>9.62773</td>\n",
       "      <td>0.093618</td>\n",
       "      <td>8.3159</td>\n",
       "      <td>2.47177</td>\n",
       "      <td>0.383774</td>\n",
       "      <td>1.85362</td>\n",
       "      <td>5.37847</td>\n",
       "      <td>2.1842</td>\n",
       "      <td>1.19456</td>\n",
       "      <td>1.35159</td>\n",
       "      <td>0</td>\n",
       "    </tr>\n",
       "    <tr>\n",
       "      <th>min</th>\n",
       "      <td>63</td>\n",
       "      <td>0</td>\n",
       "      <td>0</td>\n",
       "      <td>0</td>\n",
       "      <td>0</td>\n",
       "      <td>0.591673</td>\n",
       "      <td>0</td>\n",
       "      <td>1</td>\n",
       "      <td>1</td>\n",
       "      <td>1</td>\n",
       "      <td>1</td>\n",
       "      <td>0</td>\n",
       "    </tr>\n",
       "    <tr>\n",
       "      <th>25%</th>\n",
       "      <td>75</td>\n",
       "      <td>10</td>\n",
       "      <td>0</td>\n",
       "      <td>11</td>\n",
       "      <td>0</td>\n",
       "      <td>3.25163</td>\n",
       "      <td>2</td>\n",
       "      <td>7</td>\n",
       "      <td>4.33333</td>\n",
       "      <td>3</td>\n",
       "      <td>3</td>\n",
       "      <td>0</td>\n",
       "    </tr>\n",
       "    <tr>\n",
       "      <th>50%</th>\n",
       "      <td>81</td>\n",
       "      <td>13</td>\n",
       "      <td>0</td>\n",
       "      <td>15</td>\n",
       "      <td>0</td>\n",
       "      <td>3.50689</td>\n",
       "      <td>2</td>\n",
       "      <td>9</td>\n",
       "      <td>5.33333</td>\n",
       "      <td>3</td>\n",
       "      <td>3</td>\n",
       "      <td>0</td>\n",
       "    </tr>\n",
       "    <tr>\n",
       "      <th>75%</th>\n",
       "      <td>93</td>\n",
       "      <td>19</td>\n",
       "      <td>0</td>\n",
       "      <td>21</td>\n",
       "      <td>2</td>\n",
       "      <td>3.7622</td>\n",
       "      <td>3</td>\n",
       "      <td>12</td>\n",
       "      <td>6.85714</td>\n",
       "      <td>4</td>\n",
       "      <td>3</td>\n",
       "      <td>0</td>\n",
       "    </tr>\n",
       "    <tr>\n",
       "      <th>max</th>\n",
       "      <td>1514</td>\n",
       "      <td>216</td>\n",
       "      <td>12</td>\n",
       "      <td>207</td>\n",
       "      <td>57</td>\n",
       "      <td>4.90928</td>\n",
       "      <td>84</td>\n",
       "      <td>63</td>\n",
       "      <td>33.6667</td>\n",
       "      <td>46</td>\n",
       "      <td>37</td>\n",
       "      <td>0</td>\n",
       "    </tr>\n",
       "  </tbody>\n",
       "</table>\n",
       "</div>"
      ],
      "text/plain": [
       "        Length Subdomain length Uppercase count Lowercase count Numeric count  \\\n",
       "count  1.5e+06          1.5e+06         1.5e+06         1.5e+06       1.5e+06   \n",
       "mean   84.2182          15.6273      0.00100533         16.8908       1.25169   \n",
       "std    13.4067          9.62773        0.093618          8.3159       2.47177   \n",
       "min         63                0               0               0             0   \n",
       "25%         75               10               0              11             0   \n",
       "50%         81               13               0              15             0   \n",
       "75%         93               19               0              21             2   \n",
       "max       1514              216              12             207            57   \n",
       "\n",
       "        Entropy Special Char Count Max label length Average label length  \\\n",
       "count   1.5e+06            1.5e+06          1.5e+06              1.5e+06   \n",
       "mean     3.5062            2.71243          9.98546              5.80414   \n",
       "std    0.383774            1.85362          5.37847               2.1842   \n",
       "min    0.591673                  0                1                    1   \n",
       "25%     3.25163                  2                7              4.33333   \n",
       "50%     3.50689                  2                9              5.33333   \n",
       "75%      3.7622                  3               12              6.85714   \n",
       "max     4.90928                 84               63              33.6667   \n",
       "\n",
       "      Number of Labels Length of domain    Label  \n",
       "count          1.5e+06          1.5e+06  1.5e+06  \n",
       "mean           3.22617          3.00244        0  \n",
       "std            1.19456          1.35159        0  \n",
       "min                  1                1        0  \n",
       "25%                  3                3        0  \n",
       "50%                  3                3        0  \n",
       "75%                  4                3        0  \n",
       "max                 46               37        0  "
      ]
     },
     "execution_count": 19,
     "metadata": {},
     "output_type": "execute_result"
    }
   ],
   "source": [
    "benign = df.loc[df['Label'] == 0]\n",
    "benign.describe().apply(lambda s: s.apply(lambda x: format(x, 'g')))"
   ]
  },
  {
   "cell_type": "code",
   "execution_count": 20,
   "metadata": {},
   "outputs": [
    {
     "data": {
      "text/html": [
       "<div>\n",
       "<style scoped>\n",
       "    .dataframe tbody tr th:only-of-type {\n",
       "        vertical-align: middle;\n",
       "    }\n",
       "\n",
       "    .dataframe tbody tr th {\n",
       "        vertical-align: top;\n",
       "    }\n",
       "\n",
       "    .dataframe thead th {\n",
       "        text-align: right;\n",
       "    }\n",
       "</style>\n",
       "<table border=\"1\" class=\"dataframe\">\n",
       "  <thead>\n",
       "    <tr style=\"text-align: right;\">\n",
       "      <th></th>\n",
       "      <th>Length</th>\n",
       "      <th>Subdomain length</th>\n",
       "      <th>Uppercase count</th>\n",
       "      <th>Lowercase count</th>\n",
       "      <th>Numeric count</th>\n",
       "      <th>Entropy</th>\n",
       "      <th>Special Char Count</th>\n",
       "      <th>Max label length</th>\n",
       "      <th>Average label length</th>\n",
       "      <th>Number of Labels</th>\n",
       "      <th>Length of domain</th>\n",
       "      <th>Label</th>\n",
       "    </tr>\n",
       "  </thead>\n",
       "  <tbody>\n",
       "    <tr>\n",
       "      <th>count</th>\n",
       "      <td>1e+06</td>\n",
       "      <td>1e+06</td>\n",
       "      <td>1e+06</td>\n",
       "      <td>1e+06</td>\n",
       "      <td>1e+06</td>\n",
       "      <td>1e+06</td>\n",
       "      <td>1e+06</td>\n",
       "      <td>1e+06</td>\n",
       "      <td>1e+06</td>\n",
       "      <td>1e+06</td>\n",
       "      <td>1e+06</td>\n",
       "      <td>1e+06</td>\n",
       "    </tr>\n",
       "    <tr>\n",
       "      <th>mean</th>\n",
       "      <td>191.83</td>\n",
       "      <td>113.079</td>\n",
       "      <td>48.8213</td>\n",
       "      <td>39.8684</td>\n",
       "      <td>24.3288</td>\n",
       "      <td>5.37103</td>\n",
       "      <td>7.81147</td>\n",
       "      <td>32.7165</td>\n",
       "      <td>17.3342</td>\n",
       "      <td>6.75083</td>\n",
       "      <td>2.00001</td>\n",
       "      <td>1</td>\n",
       "    </tr>\n",
       "    <tr>\n",
       "      <th>std</th>\n",
       "      <td>51.216</td>\n",
       "      <td>51.0638</td>\n",
       "      <td>21.6669</td>\n",
       "      <td>28.8895</td>\n",
       "      <td>8.44513</td>\n",
       "      <td>0.217319</td>\n",
       "      <td>3.29527</td>\n",
       "      <td>14.7402</td>\n",
       "      <td>7.30709</td>\n",
       "      <td>1.29931</td>\n",
       "      <td>0.00399999</td>\n",
       "      <td>0</td>\n",
       "    </tr>\n",
       "    <tr>\n",
       "      <th>min</th>\n",
       "      <td>72</td>\n",
       "      <td>7</td>\n",
       "      <td>0</td>\n",
       "      <td>0</td>\n",
       "      <td>0</td>\n",
       "      <td>3.25163</td>\n",
       "      <td>1</td>\n",
       "      <td>7</td>\n",
       "      <td>3.19048</td>\n",
       "      <td>2</td>\n",
       "      <td>2</td>\n",
       "      <td>1</td>\n",
       "    </tr>\n",
       "    <tr>\n",
       "      <th>25%</th>\n",
       "      <td>170</td>\n",
       "      <td>91</td>\n",
       "      <td>30</td>\n",
       "      <td>13</td>\n",
       "      <td>19</td>\n",
       "      <td>5.20277</td>\n",
       "      <td>5</td>\n",
       "      <td>23</td>\n",
       "      <td>13.2857</td>\n",
       "      <td>6</td>\n",
       "      <td>2</td>\n",
       "      <td>1</td>\n",
       "    </tr>\n",
       "    <tr>\n",
       "      <th>50%</th>\n",
       "      <td>170</td>\n",
       "      <td>92</td>\n",
       "      <td>52</td>\n",
       "      <td>40</td>\n",
       "      <td>22</td>\n",
       "      <td>5.34572</td>\n",
       "      <td>8</td>\n",
       "      <td>33</td>\n",
       "      <td>15.5</td>\n",
       "      <td>7</td>\n",
       "      <td>2</td>\n",
       "      <td>1</td>\n",
       "    </tr>\n",
       "    <tr>\n",
       "      <th>75%</th>\n",
       "      <td>178</td>\n",
       "      <td>97</td>\n",
       "      <td>61</td>\n",
       "      <td>46</td>\n",
       "      <td>25</td>\n",
       "      <td>5.45638</td>\n",
       "      <td>10</td>\n",
       "      <td>43</td>\n",
       "      <td>18.8</td>\n",
       "      <td>7</td>\n",
       "      <td>2</td>\n",
       "      <td>1</td>\n",
       "    </tr>\n",
       "    <tr>\n",
       "      <th>max</th>\n",
       "      <td>320</td>\n",
       "      <td>241</td>\n",
       "      <td>122</td>\n",
       "      <td>137</td>\n",
       "      <td>68</td>\n",
       "      <td>5.93376</td>\n",
       "      <td>51</td>\n",
       "      <td>63</td>\n",
       "      <td>34.7143</td>\n",
       "      <td>44</td>\n",
       "      <td>4</td>\n",
       "      <td>1</td>\n",
       "    </tr>\n",
       "  </tbody>\n",
       "</table>\n",
       "</div>"
      ],
      "text/plain": [
       "       Length Subdomain length Uppercase count Lowercase count Numeric count  \\\n",
       "count   1e+06            1e+06           1e+06           1e+06         1e+06   \n",
       "mean   191.83          113.079         48.8213         39.8684       24.3288   \n",
       "std    51.216          51.0638         21.6669         28.8895       8.44513   \n",
       "min        72                7               0               0             0   \n",
       "25%       170               91              30              13            19   \n",
       "50%       170               92              52              40            22   \n",
       "75%       178               97              61              46            25   \n",
       "max       320              241             122             137            68   \n",
       "\n",
       "        Entropy Special Char Count Max label length Average label length  \\\n",
       "count     1e+06              1e+06            1e+06                1e+06   \n",
       "mean    5.37103            7.81147          32.7165              17.3342   \n",
       "std    0.217319            3.29527          14.7402              7.30709   \n",
       "min     3.25163                  1                7              3.19048   \n",
       "25%     5.20277                  5               23              13.2857   \n",
       "50%     5.34572                  8               33                 15.5   \n",
       "75%     5.45638                 10               43                 18.8   \n",
       "max     5.93376                 51               63              34.7143   \n",
       "\n",
       "      Number of Labels Length of domain  Label  \n",
       "count            1e+06            1e+06  1e+06  \n",
       "mean           6.75083          2.00001      1  \n",
       "std            1.29931       0.00399999      0  \n",
       "min                  2                2      1  \n",
       "25%                  6                2      1  \n",
       "50%                  7                2      1  \n",
       "75%                  7                2      1  \n",
       "max                 44                4      1  "
      ]
     },
     "execution_count": 20,
     "metadata": {},
     "output_type": "execute_result"
    }
   ],
   "source": [
    "malicious = df.loc[df['Label'] == 1]\n",
    "malicious.describe().apply(lambda s: s.apply(lambda x: format(x, 'g')))"
   ]
  },
  {
   "cell_type": "code",
   "execution_count": 45,
   "metadata": {},
   "outputs": [
    {
     "data": {
      "text/plain": [
       "Index(['Length', 'Website', 'Subdomain length', 'Uppercase count',\n",
       "       'Lowercase count', 'Numeric count', 'Entropy', 'Special Char Count',\n",
       "       'Max label length', 'Average label length', 'Number of Labels',\n",
       "       'Length of domain', 'Label'],\n",
       "      dtype='object')"
      ]
     },
     "execution_count": 45,
     "metadata": {},
     "output_type": "execute_result"
    }
   ],
   "source": [
    "df.columns"
   ]
  },
  {
   "cell_type": "code",
   "execution_count": 21,
   "metadata": {},
   "outputs": [],
   "source": [
    "#Shuffling dataframe\n",
    "df = df.sample(frac=1).reset_index(drop=True)"
   ]
  },
  {
   "cell_type": "code",
   "execution_count": 25,
   "metadata": {},
   "outputs": [],
   "source": [
    "# getting the columns for x and y\n",
    "x_name = df.iloc[:, 1:12].columns\n",
    "y_name = df.iloc[:1, 12: ].columns"
   ]
  },
  {
   "cell_type": "code",
   "execution_count": 33,
   "metadata": {},
   "outputs": [
    {
     "ename": "KeyError",
     "evalue": "\"['Website'] not found in axis\"",
     "output_type": "error",
     "traceback": [
      "\u001b[0;31m---------------------------------------------------------------------------\u001b[0m",
      "\u001b[0;31mKeyError\u001b[0m                                  Traceback (most recent call last)",
      "\u001b[0;32m<ipython-input-33-d79542d6cbad>\u001b[0m in \u001b[0;36m<module>\u001b[0;34m\u001b[0m\n\u001b[0;32m----> 1\u001b[0;31m \u001b[0mx_name\u001b[0m \u001b[0;34m=\u001b[0m \u001b[0mx_name\u001b[0m\u001b[0;34m.\u001b[0m\u001b[0mdrop\u001b[0m\u001b[0;34m(\u001b[0m\u001b[0;34m\"Website\"\u001b[0m\u001b[0;34m)\u001b[0m\u001b[0;34m\u001b[0m\u001b[0;34m\u001b[0m\u001b[0m\n\u001b[0m\u001b[1;32m      2\u001b[0m \u001b[0mx_name\u001b[0m\u001b[0;34m\u001b[0m\u001b[0;34m\u001b[0m\u001b[0m\n",
      "\u001b[0;32m~/opt/anaconda3/lib/python3.8/site-packages/pandas/core/indexes/base.py\u001b[0m in \u001b[0;36mdrop\u001b[0;34m(self, labels, errors)\u001b[0m\n\u001b[1;32m   5589\u001b[0m         \u001b[0;32mif\u001b[0m \u001b[0mmask\u001b[0m\u001b[0;34m.\u001b[0m\u001b[0many\u001b[0m\u001b[0;34m(\u001b[0m\u001b[0;34m)\u001b[0m\u001b[0;34m:\u001b[0m\u001b[0;34m\u001b[0m\u001b[0;34m\u001b[0m\u001b[0m\n\u001b[1;32m   5590\u001b[0m             \u001b[0;32mif\u001b[0m \u001b[0merrors\u001b[0m \u001b[0;34m!=\u001b[0m \u001b[0;34m\"ignore\"\u001b[0m\u001b[0;34m:\u001b[0m\u001b[0;34m\u001b[0m\u001b[0;34m\u001b[0m\u001b[0m\n\u001b[0;32m-> 5591\u001b[0;31m                 \u001b[0;32mraise\u001b[0m \u001b[0mKeyError\u001b[0m\u001b[0;34m(\u001b[0m\u001b[0;34mf\"{labels[mask]} not found in axis\"\u001b[0m\u001b[0;34m)\u001b[0m\u001b[0;34m\u001b[0m\u001b[0;34m\u001b[0m\u001b[0m\n\u001b[0m\u001b[1;32m   5592\u001b[0m             \u001b[0mindexer\u001b[0m \u001b[0;34m=\u001b[0m \u001b[0mindexer\u001b[0m\u001b[0;34m[\u001b[0m\u001b[0;34m~\u001b[0m\u001b[0mmask\u001b[0m\u001b[0;34m]\u001b[0m\u001b[0;34m\u001b[0m\u001b[0;34m\u001b[0m\u001b[0m\n\u001b[1;32m   5593\u001b[0m         \u001b[0;32mreturn\u001b[0m \u001b[0mself\u001b[0m\u001b[0;34m.\u001b[0m\u001b[0mdelete\u001b[0m\u001b[0;34m(\u001b[0m\u001b[0mindexer\u001b[0m\u001b[0;34m)\u001b[0m\u001b[0;34m\u001b[0m\u001b[0;34m\u001b[0m\u001b[0m\n",
      "\u001b[0;31mKeyError\u001b[0m: \"['Website'] not found in axis\""
     ]
    }
   ],
   "source": [
    "x_name = x_name.drop(\"Website\")\n",
    "x_name"
   ]
  },
  {
   "cell_type": "code",
   "execution_count": 47,
   "metadata": {},
   "outputs": [
    {
     "data": {
      "text/plain": [
       "Index(['Subdomain length', 'Uppercase count', 'Lowercase count',\n",
       "       'Numeric count', 'Entropy', 'Special Char Count', 'Max label length',\n",
       "       'Average label length', 'Number of Labels', 'Length of domain'],\n",
       "      dtype='object')"
      ]
     },
     "execution_count": 47,
     "metadata": {},
     "output_type": "execute_result"
    }
   ],
   "source": [
    "x_name"
   ]
  },
  {
   "cell_type": "code",
   "execution_count": 34,
   "metadata": {},
   "outputs": [
    {
     "data": {
      "text/plain": [
       "Index(['Label'], dtype='object')"
      ]
     },
     "execution_count": 34,
     "metadata": {},
     "output_type": "execute_result"
    }
   ],
   "source": [
    "y_name"
   ]
  },
  {
   "cell_type": "code",
   "execution_count": 35,
   "metadata": {},
   "outputs": [],
   "source": [
    "data_x = df[x_name]\n",
    "data_y = df[y_name]"
   ]
  },
  {
   "cell_type": "code",
   "execution_count": 50,
   "metadata": {},
   "outputs": [
    {
     "data": {
      "text/plain": [
       "Subdomain length        12.000000\n",
       "Uppercase count          0.000000\n",
       "Lowercase count         15.000000\n",
       "Numeric count            0.000000\n",
       "Entropy                  3.337175\n",
       "Special Char Count       2.000000\n",
       "Max label length         7.000000\n",
       "Average label length     5.000000\n",
       "Number of Labels         3.000000\n",
       "Length of domain         3.000000\n",
       "Name: 2, dtype: float64"
      ]
     },
     "execution_count": 50,
     "metadata": {},
     "output_type": "execute_result"
    }
   ],
   "source": [
    "data_x.iloc[2]"
   ]
  },
  {
   "cell_type": "code",
   "execution_count": 36,
   "metadata": {},
   "outputs": [],
   "source": [
    "train_x, test_x, train_y, test_y = train_test_split(data_x, data_y, train_size=0.7, test_size=0.3)"
   ]
  },
  {
   "cell_type": "code",
   "execution_count": 37,
   "metadata": {},
   "outputs": [
    {
     "data": {
      "text/plain": [
       "LogisticRegression(C=1.0, class_weight=None, dual=False, fit_intercept=True,\n",
       "                   intercept_scaling=1, l1_ratio=None, max_iter=100,\n",
       "                   multi_class='auto', n_jobs=None, penalty='l2',\n",
       "                   random_state=None, solver='liblinear', tol=0.0001, verbose=0,\n",
       "                   warm_start=False)"
      ]
     },
     "execution_count": 37,
     "metadata": {},
     "output_type": "execute_result"
    }
   ],
   "source": [
    "model = LogisticRegression(solver='liblinear')\n",
    "\n",
    "model.fit(train_x, train_y.values.ravel())"
   ]
  },
  {
   "cell_type": "code",
   "execution_count": 38,
   "metadata": {},
   "outputs": [],
   "source": [
    "pred_y = model.predict(test_x)"
   ]
  },
  {
   "cell_type": "code",
   "execution_count": 39,
   "metadata": {},
   "outputs": [
    {
     "data": {
      "text/plain": [
       "0.9999826666666667"
      ]
     },
     "execution_count": 39,
     "metadata": {},
     "output_type": "execute_result"
    }
   ],
   "source": [
    "accuracy_score(test_y, pred_y)"
   ]
  },
  {
   "cell_type": "code",
   "execution_count": 40,
   "metadata": {},
   "outputs": [
    {
     "data": {
      "text/plain": [
       "0.9999783188430935"
      ]
     },
     "execution_count": 40,
     "metadata": {},
     "output_type": "execute_result"
    }
   ],
   "source": [
    "f1_score(test_y, pred_y)"
   ]
  },
  {
   "cell_type": "code",
   "execution_count": 41,
   "metadata": {},
   "outputs": [
    {
     "data": {
      "text/plain": [
       "1.0"
      ]
     },
     "execution_count": 41,
     "metadata": {},
     "output_type": "execute_result"
    }
   ],
   "source": [
    "precision_score(test_y, pred_y)"
   ]
  },
  {
   "cell_type": "code",
   "execution_count": 42,
   "metadata": {},
   "outputs": [
    {
     "data": {
      "text/plain": [
       "0.9999566386263117"
      ]
     },
     "execution_count": 42,
     "metadata": {},
     "output_type": "execute_result"
    }
   ],
   "source": [
    "recall_score(test_y, pred_y)"
   ]
  },
  {
   "cell_type": "code",
   "execution_count": 43,
   "metadata": {},
   "outputs": [],
   "source": [
    "mlflow.sklearn.save_model(model, path='./df_model')"
   ]
  },
  {
   "cell_type": "code",
   "execution_count": null,
   "metadata": {},
   "outputs": [],
   "source": []
  }
 ],
 "metadata": {
  "kernelspec": {
   "display_name": "Python 3",
   "language": "python",
   "name": "python3"
  },
  "language_info": {
   "codemirror_mode": {
    "name": "ipython",
    "version": 3
   },
   "file_extension": ".py",
   "mimetype": "text/x-python",
   "name": "python",
   "nbconvert_exporter": "python",
   "pygments_lexer": "ipython3",
   "version": "3.8.8"
  }
 },
 "nbformat": 4,
 "nbformat_minor": 4
}
